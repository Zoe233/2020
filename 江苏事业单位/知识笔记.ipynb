{
 "cells": [
  {
   "cell_type": "markdown",
   "metadata": {},
   "source": [
    "# 物理知识"
   ]
  },
  {
   "cell_type": "markdown",
   "metadata": {},
   "source": [
    "<h3><a href='#super_weight'>1. 失重和超重</a></h3>\n",
    "<h3><a href='#svt'>2. 行程问题</a></h3>"
   ]
  },
  {
   "cell_type": "markdown",
   "metadata": {},
   "source": []
  },
  {
   "cell_type": "markdown",
   "metadata": {},
   "source": []
  },
  {
   "cell_type": "markdown",
   "metadata": {},
   "source": []
  },
  {
   "cell_type": "markdown",
   "metadata": {},
   "source": []
  },
  {
   "cell_type": "markdown",
   "metadata": {},
   "source": []
  },
  {
   "cell_type": "markdown",
   "metadata": {},
   "source": []
  },
  {
   "cell_type": "markdown",
   "metadata": {},
   "source": []
  },
  {
   "cell_type": "markdown",
   "metadata": {},
   "source": []
  },
  {
   "cell_type": "markdown",
   "metadata": {},
   "source": []
  },
  {
   "cell_type": "markdown",
   "metadata": {},
   "source": []
  },
  {
   "cell_type": "markdown",
   "metadata": {},
   "source": [
    "<h3><a name=\"super_weight\">失重和超重</a></h3>\n",
    "\n",
    "失重和超重的相关知识。\n",
    "\n",
    "**失重状态**指的是物体在引力场中自由运动时有质量而不表现重量或重量较小的一种状态。当物体**加速度竖直向下**时为失重状态。  \n",
    "$$F_N=mg-ma$$\n",
    "\n",
    "\n",
    "**超重状态**是指问题所受限制力大于物体所受重力的状态，当物体的**加速度竖直向上**时为超重状态。  \n",
    "$$F_N=mg+ma$$\n",
    "超重：要么是**向上加速**，要么是**向下减速**。  \n",
    "\n",
    "\n",
    "**完全失重**：如果物体正好以大小等于g的加速度竖直下落，这时物体对支持物、悬挂物完全没有作用，好像完全没有了重力作用，这种状态是完全失重状态。"
   ]
  },
  {
   "cell_type": "markdown",
   "metadata": {},
   "source": [
    "<a href='https://www.bilibili.com/video/av73674236?from=search&seid=5726467145282616906'>b站：超重失重讲解</a>"
   ]
  },
  {
   "cell_type": "markdown",
   "metadata": {},
   "source": [
    "典型问题：电梯加速\n",
    "- 加速上升是超重\n",
    "- 加速下降是失重"
   ]
  },
  {
   "cell_type": "markdown",
   "metadata": {},
   "source": [
    "【练习题】"
   ]
  },
  {
   "cell_type": "markdown",
   "metadata": {},
   "source": [
    "(单选题)蹦极运动员从高处跳下，弹性绳被拉展前做自由落体运动，被拉展后在弹性绳的缓冲作用下，下落到一定高度后速度减为零。下列说法中正确的是（    ）。\n",
    "- A 弹性绳拉展前运动员处于失重状态，弹性绳拉展后运动员处于超重状态\n",
    "- B 弹性绳拉展后运动员先处于失重状态，后处于超重状态\n",
    "- C 弹性绳拉展后运动员先处于超重状态，后处于失重状态\n",
    "- D 运动员一直处于失重状态"
   ]
  },
  {
   "cell_type": "markdown",
   "metadata": {},
   "source": [
    "【答案解析】 正确答案B  \n",
    "弹性绳自拉展后到伸缩前，拉力小于重力，加速度方向向下，运动员处于失重状态。     \n",
    "弹性绳开始收缩后，拉力大于重力，加速度方向向上，运动员处于超重状态。  "
   ]
  },
  {
   "cell_type": "markdown",
   "metadata": {},
   "source": [
    "易错点：失重和超重状态的概念模糊。"
   ]
  },
  {
   "cell_type": "markdown",
   "metadata": {},
   "source": [
    "（单选题）在夏季田径运动会跳高比赛中，小明成功跳过了1.6m的高度。若忽略空气阻力，下面说法正确的事（）\n",
    "- A 小明起跳时地面对他的支持力等于他的重力\n",
    "- B 小明起跳以后在上升过程中处于超重状态\n",
    "- C 小明下降过程处于失重状态\n",
    "- D 小明起跳以后在下降过程中重力消失了"
   ]
  },
  {
   "cell_type": "markdown",
   "metadata": {},
   "source": [
    "【答案解析】 正确答案C   \n",
    "很容易排出A和D。     \n",
    "B选项，在空中，只受重力，加速度向下，加速度=g，是完全失重状态。     \n",
    "C选项正确。\n"
   ]
  },
  {
   "cell_type": "markdown",
   "metadata": {},
   "source": [
    "（多选题）在升降机内，一人站在磅秤上，发现自己的体重减轻了20%，则下列判断可能正确的事（g取10$m/s^2$）（）\n",
    "- A 升降机以8$m/s^2$的加速度加速上升\n",
    "- B 升降机以2$m/s^2$的加速度加速下降\n",
    "- C 升降机以2$m/s^2$的加速度减速上升\n",
    "- D 升降机以8$m/s^2$的加速度减速下降"
   ]
  },
  {
   "cell_type": "markdown",
   "metadata": {},
   "source": [
    "【答案解析】 正确选项BC \n",
    "$F_重=mg$  \n",
    "$F_{向上}=0.8mg$  \n",
    "$F_合=F_{向上}-F_重=-0.2mg=ma$，方向向下，所以是向下。  \n",
    "所以，a=2$m/s^2$，所以排出A和D。  \n",
    "\n",
    "加速度的方向是向下的，所以一定是向上减速，或者向下加速"
   ]
  },
  {
   "cell_type": "markdown",
   "metadata": {},
   "source": [
    "（单选题）在一个空的易拉罐地步打一个小洞，往罐里注满水，水从小洞射出。罐子在做如下哪种运动过程中，水将不从洞中射出（）。\n",
    "- A 匀速上升\n",
    "- B 匀速下降\n",
    "- C 自由下落\n",
    "- D 竖直上抛运动"
   ]
  },
  {
   "cell_type": "markdown",
   "metadata": {},
   "source": [
    "【答案解析】正确选项C    \n",
    "只有当自由下落时，罐子的加速度是g，水的加速度也是g，都是g，所以时时刻刻相同。"
   ]
  },
  {
   "cell_type": "markdown",
   "metadata": {},
   "source": [
    "（多选题）在德国首都柏林举行的世界田径锦标赛女子跳高决赛中，克罗地亚选手弗拉希奇以2.04m的成绩获得冠军。弗拉希奇身高约为1.93m，忽略空气阻力，g取10$m/s^2$。则下面说法争取的是（）\n",
    "- A 弗拉希奇下降过程处于失重状态\n",
    "- B 弗拉希奇起跳以后在上升过程中处于超重状态\n",
    "- C 弗拉希奇起跳时地面对她的支持力大于她所受的重力\n",
    "- D 弗拉希奇起跳时的初速度大约为3$m/s$"
   ]
  },
  {
   "cell_type": "markdown",
   "metadata": {},
   "source": [
    "【答案解析】正确答案AC   \n",
    "A选项，只受mg，所以a=g，所以是失重状态；   \n",
    "B选项，只受mg，所以a=g，还是失重状态，是完全失重；  \n",
    "C选项，对的；  \n",
    "D选项，需要物理中别的计算公式，结果是不对的。其他知识需要重新补充\n"
   ]
  },
  {
   "cell_type": "markdown",
   "metadata": {},
   "source": [
    "----"
   ]
  },
  {
   "cell_type": "markdown",
   "metadata": {},
   "source": [
    "<h3><a name='svt'>2. 行程问题</a></h3>"
   ]
  },
  {
   "cell_type": "markdown",
   "metadata": {},
   "source": [
    "行程问题：$S=VT$  \n",
    "题型：\n",
    "1. 基本行程\n",
    "2. 相对行程\n",
    "3. 比例行程"
   ]
  },
  {
   "cell_type": "markdown",
   "metadata": {},
   "source": [
    "### 1. 基本行程 \n"
   ]
  },
  {
   "cell_type": "markdown",
   "metadata": {},
   "source": [
    "#### 火车过桥问题：\n",
    "$$总路程=火车车身长度+桥长=火车速度*过桥时间$$\n",
    "<img src='./images/001.png' width=500></img>"
   ]
  },
  {
   "cell_type": "markdown",
   "metadata": {},
   "source": [
    "#### 等距离平均速度：  \n",
    "$$\\bar{V}=\\frac{2V_1V2}{V_1+V_2}$$\n",
    "适用于等距离往返、上下坡往返。 \n",
    "<img src='./images/004.png' width=500></img>"
   ]
  },
  {
   "cell_type": "markdown",
   "metadata": {},
   "source": [
    "#### 直线相遇问题\n",
    "环境：两人同时相向而行   \n",
    "公式：$$S_{相遇}=(V_1+V_2)t$$，$S_{相遇}$，就是一起跑的路程。\n",
    "\n",
    "<img src='./images/002.png' width=500></img>"
   ]
  },
  {
   "cell_type": "markdown",
   "metadata": {},
   "source": [
    "#### 直线追及\n",
    "环境：两人同时同向而行\n",
    "公式：$$S_{追及}=(V_1-V_2)t$$，$S_{追及}$，就是多跑的距离。\n",
    "<img src='./images/003.png' width=500></img>"
   ]
  },
  {
   "cell_type": "markdown",
   "metadata": {},
   "source": [
    "#### 环形相遇（同时出发）\n",
    "$$S_{相遇}=(V_1+V_2)t$$\n",
    "\n",
    "相遇1次，$S_{相遇}$=1圈；  \n",
    "\n",
    "相遇N次，$S_{相遇}$=N圈；  \n",
    "<img src='./images/005.png' width=500></img>"
   ]
  },
  {
   "cell_type": "markdown",
   "metadata": {},
   "source": [
    "#### 流水行路\n",
    "$$V_{顺}=V_{船}+V_{水}$$  \n",
    "$$V_{逆}+V_{船}-V_{水}$$  \n",
    "\n",
    "$$V_{船}=\\frac{V_顺+V_逆}{2}$$\n",
    "$$V_{水}=\\frac{V_顺-V_逆}{2}$$"
   ]
  },
  {
   "cell_type": "markdown",
   "metadata": {},
   "source": [
    "<img src='./images/006.png' width=500></img>"
   ]
  },
  {
   "cell_type": "markdown",
   "metadata": {},
   "source": []
  },
  {
   "cell_type": "markdown",
   "metadata": {},
   "source": []
  },
  {
   "cell_type": "markdown",
   "metadata": {},
   "source": []
  },
  {
   "cell_type": "markdown",
   "metadata": {},
   "source": []
  },
  {
   "cell_type": "markdown",
   "metadata": {},
   "source": []
  },
  {
   "cell_type": "code",
   "execution_count": null,
   "metadata": {},
   "outputs": [],
   "source": []
  },
  {
   "cell_type": "markdown",
   "metadata": {},
   "source": []
  },
  {
   "cell_type": "markdown",
   "metadata": {},
   "source": []
  },
  {
   "cell_type": "markdown",
   "metadata": {},
   "source": []
  },
  {
   "cell_type": "code",
   "execution_count": null,
   "metadata": {},
   "outputs": [],
   "source": []
  },
  {
   "cell_type": "markdown",
   "metadata": {},
   "source": []
  },
  {
   "cell_type": "markdown",
   "metadata": {},
   "source": []
  },
  {
   "cell_type": "markdown",
   "metadata": {},
   "source": []
  },
  {
   "cell_type": "markdown",
   "metadata": {},
   "source": []
  },
  {
   "cell_type": "markdown",
   "metadata": {},
   "source": []
  }
 ],
 "metadata": {
  "kernelspec": {
   "display_name": "Python 3",
   "language": "python",
   "name": "python3"
  },
  "language_info": {
   "codemirror_mode": {
    "name": "ipython",
    "version": 3
   },
   "file_extension": ".py",
   "mimetype": "text/x-python",
   "name": "python",
   "nbconvert_exporter": "python",
   "pygments_lexer": "ipython3",
   "version": "3.6.5"
  }
 },
 "nbformat": 4,
 "nbformat_minor": 2
}
