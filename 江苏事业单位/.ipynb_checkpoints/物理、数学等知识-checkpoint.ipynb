{
 "cells": [
  {
   "cell_type": "markdown",
   "metadata": {},
   "source": [
    "# 物理知识"
   ]
  },
  {
   "cell_type": "markdown",
   "metadata": {},
   "source": [
    "<h3><a href='#super_weight'>1. 失重和超重</a></h3>\n",
    "<h3><a href='#svt'>2. 行程问题</a></h3>\n",
    "<h3><a href='#ratio'>3. 资料分析：比重-两期比重 </a></h3>\n",
    "<h3><a href='#atrribute'>4. 属性规律：对称性、曲直、开闭 </a></h3>"
   ]
  },
  {
   "cell_type": "markdown",
   "metadata": {},
   "source": []
  },
  {
   "cell_type": "markdown",
   "metadata": {},
   "source": []
  },
  {
   "cell_type": "markdown",
   "metadata": {},
   "source": []
  },
  {
   "cell_type": "markdown",
   "metadata": {},
   "source": []
  },
  {
   "cell_type": "markdown",
   "metadata": {},
   "source": []
  },
  {
   "cell_type": "markdown",
   "metadata": {},
   "source": []
  },
  {
   "cell_type": "markdown",
   "metadata": {},
   "source": []
  },
  {
   "cell_type": "markdown",
   "metadata": {},
   "source": []
  },
  {
   "cell_type": "markdown",
   "metadata": {},
   "source": []
  },
  {
   "cell_type": "markdown",
   "metadata": {},
   "source": []
  },
  {
   "cell_type": "markdown",
   "metadata": {},
   "source": [
    "<h3><a name=\"super_weight\">失重和超重</a></h3>\n",
    "\n",
    "失重和超重的相关知识。\n",
    "\n",
    "**失重状态**指的是物体在引力场中自由运动时有质量而不表现重量或重量较小的一种状态。当物体**加速度竖直向下**时为失重状态。  \n",
    "$$F_N=mg-ma$$\n",
    "\n",
    "\n",
    "**超重状态**是指问题所受限制力大于物体所受重力的状态，当物体的**加速度竖直向上**时为超重状态。  \n",
    "$$F_N=mg+ma$$\n",
    "超重：要么是**向上加速**，要么是**向下减速**。  \n",
    "\n",
    "\n",
    "**完全失重**：如果物体正好以大小等于g的加速度竖直下落，这时物体对支持物、悬挂物完全没有作用，好像完全没有了重力作用，这种状态是完全失重状态。"
   ]
  },
  {
   "cell_type": "markdown",
   "metadata": {},
   "source": [
    "<a href='https://www.bilibili.com/video/av73674236?from=search&seid=5726467145282616906'>b站：超重失重讲解</a>"
   ]
  },
  {
   "cell_type": "markdown",
   "metadata": {},
   "source": [
    "典型问题：电梯加速\n",
    "- 加速上升是超重\n",
    "- 加速下降是失重"
   ]
  },
  {
   "cell_type": "markdown",
   "metadata": {},
   "source": [
    "【练习题】"
   ]
  },
  {
   "cell_type": "markdown",
   "metadata": {},
   "source": [
    "(单选题)蹦极运动员从高处跳下，弹性绳被拉展前做自由落体运动，被拉展后在弹性绳的缓冲作用下，下落到一定高度后速度减为零。下列说法中正确的是（    ）。\n",
    "- A 弹性绳拉展前运动员处于失重状态，弹性绳拉展后运动员处于超重状态\n",
    "- B 弹性绳拉展后运动员先处于失重状态，后处于超重状态\n",
    "- C 弹性绳拉展后运动员先处于超重状态，后处于失重状态\n",
    "- D 运动员一直处于失重状态"
   ]
  },
  {
   "cell_type": "markdown",
   "metadata": {},
   "source": [
    "【答案解析】 正确答案B  \n",
    "弹性绳自拉展后到伸缩前，拉力小于重力，加速度方向向下，运动员处于失重状态。     \n",
    "弹性绳开始收缩后，拉力大于重力，加速度方向向上，运动员处于超重状态。  "
   ]
  },
  {
   "cell_type": "markdown",
   "metadata": {},
   "source": [
    "易错点：失重和超重状态的概念模糊。"
   ]
  },
  {
   "cell_type": "markdown",
   "metadata": {},
   "source": [
    "（单选题）在夏季田径运动会跳高比赛中，小明成功跳过了1.6m的高度。若忽略空气阻力，下面说法正确的事（）\n",
    "- A 小明起跳时地面对他的支持力等于他的重力\n",
    "- B 小明起跳以后在上升过程中处于超重状态\n",
    "- C 小明下降过程处于失重状态\n",
    "- D 小明起跳以后在下降过程中重力消失了"
   ]
  },
  {
   "cell_type": "markdown",
   "metadata": {},
   "source": [
    "【答案解析】 正确答案C   \n",
    "很容易排出A和D。     \n",
    "B选项，在空中，只受重力，加速度向下，加速度=g，是完全失重状态。     \n",
    "C选项正确。\n"
   ]
  },
  {
   "cell_type": "markdown",
   "metadata": {},
   "source": [
    "（多选题）在升降机内，一人站在磅秤上，发现自己的体重减轻了20%，则下列判断可能正确的事（g取10$m/s^2$）（）\n",
    "- A 升降机以8$m/s^2$的加速度加速上升\n",
    "- B 升降机以2$m/s^2$的加速度加速下降\n",
    "- C 升降机以2$m/s^2$的加速度减速上升\n",
    "- D 升降机以8$m/s^2$的加速度减速下降"
   ]
  },
  {
   "cell_type": "markdown",
   "metadata": {},
   "source": [
    "【答案解析】 正确选项BC \n",
    "$F_重=mg$  \n",
    "$F_{向上}=0.8mg$  \n",
    "$F_合=F_{向上}-F_重=-0.2mg=ma$，方向向下，所以是向下。  \n",
    "所以，a=2$m/s^2$，所以排出A和D。  \n",
    "\n",
    "加速度的方向是向下的，所以一定是向上减速，或者向下加速"
   ]
  },
  {
   "cell_type": "markdown",
   "metadata": {},
   "source": [
    "（单选题）在一个空的易拉罐地步打一个小洞，往罐里注满水，水从小洞射出。罐子在做如下哪种运动过程中，水将不从洞中射出（）。\n",
    "- A 匀速上升\n",
    "- B 匀速下降\n",
    "- C 自由下落\n",
    "- D 竖直上抛运动"
   ]
  },
  {
   "cell_type": "markdown",
   "metadata": {},
   "source": [
    "【答案解析】正确选项C    \n",
    "只有当自由下落时，罐子的加速度是g，水的加速度也是g，都是g，所以时时刻刻相同。"
   ]
  },
  {
   "cell_type": "markdown",
   "metadata": {},
   "source": [
    "（多选题）在德国首都柏林举行的世界田径锦标赛女子跳高决赛中，克罗地亚选手弗拉希奇以2.04m的成绩获得冠军。弗拉希奇身高约为1.93m，忽略空气阻力，g取10$m/s^2$。则下面说法争取的是（）\n",
    "- A 弗拉希奇下降过程处于失重状态\n",
    "- B 弗拉希奇起跳以后在上升过程中处于超重状态\n",
    "- C 弗拉希奇起跳时地面对她的支持力大于她所受的重力\n",
    "- D 弗拉希奇起跳时的初速度大约为3$m/s$"
   ]
  },
  {
   "cell_type": "markdown",
   "metadata": {},
   "source": [
    "【答案解析】正确答案AC   \n",
    "A选项，只受mg，所以a=g，所以是失重状态；   \n",
    "B选项，只受mg，所以a=g，还是失重状态，是完全失重；  \n",
    "C选项，对的；  \n",
    "D选项，需要物理中别的计算公式，结果是不对的。其他知识需要重新补充\n"
   ]
  },
  {
   "cell_type": "markdown",
   "metadata": {},
   "source": [
    "----"
   ]
  },
  {
   "cell_type": "markdown",
   "metadata": {},
   "source": [
    "<h3><a name='svt'>2. 行程问题</a></h3>"
   ]
  },
  {
   "cell_type": "markdown",
   "metadata": {},
   "source": [
    "行程问题：$S=VT$  \n",
    "题型：\n",
    "1. 基本行程\n",
    "2. 相对行程\n",
    "3. 比例行程"
   ]
  },
  {
   "cell_type": "markdown",
   "metadata": {},
   "source": [
    "### 1. 基本行程 \n"
   ]
  },
  {
   "cell_type": "markdown",
   "metadata": {},
   "source": [
    "#### 火车过桥问题：\n",
    "$$总路程=火车车身长度+桥长=火车速度*过桥时间$$\n",
    "<img src='./images/001.png' width=500></img>"
   ]
  },
  {
   "cell_type": "markdown",
   "metadata": {},
   "source": [
    "（单选题）火车A过隧道，从车头进入隧道到车尾离开隧道共用时60秒，随后与迎面而来的另外一辆火车B相遇，两车速度相同，火车B的长度是A的1.5倍，两车从车头相遇到车尾分开共用时5秒，问火车B从车尾进入隧道到车头离开隧道，要用时多少秒？\n",
    "- A 50秒\n",
    "- B 52秒\n",
    "- C 54秒\n",
    "- D 55秒"
   ]
  },
  {
   "cell_type": "markdown",
   "metadata": {},
   "source": [
    "答案解析：  \n",
    "- 火车过隧道，从车头进入隧道至车尾离开隧道，总长度为：隧道长度+火车长度\n",
    "- 两辆火车相向而行，从两火车头相遇至车尾分开，两火车共走的路程为两辆火车的长度和；\n",
    "- 从车尾进入隧道至车头离开隧道，火车所走的路程为：隧道长-火车长。\n",
    "\n",
    "根据上面的分析得到：\n",
    "- 赋值法，A火车和B火车速度相同，均赋值为1。\n",
    "- $L_{隧道}+L_{A}=1 * 60=60$\n",
    "- $L_{A}+1.5L_{A}=(V_1+V_2) * 5=(1+1) * 5$\n",
    "- 得到$L_{A}=4$, $L_{隧道}=60-4=56$\n",
    "- $L_{隧道}-1.5L_A=56-1.5*4=50=vt=t$\n",
    "- 最后得到用时t=50秒"
   ]
  },
  {
   "cell_type": "markdown",
   "metadata": {},
   "source": [
    "注意：   \n",
    "这里最难理解的是火车A和火车B对开，行驶的路程长度，相当于下面讲的环形跑道同地点背向绕圈，相遇。"
   ]
  },
  {
   "cell_type": "markdown",
   "metadata": {},
   "source": [
    "#### 等距离平均速度：  \n",
    "$$\\bar{V}=\\frac{2V_1V2}{V_1+V_2}$$\n",
    "适用于等距离往返、上下坡往返。 \n",
    "<img src='./images/004.png' width=500></img>"
   ]
  },
  {
   "cell_type": "markdown",
   "metadata": {},
   "source": [
    "（单选题）AB两地之间的公路有1/3的距离为平路，其余为上坡路或下坡路，甲乙两车从A地出发开往B地。甲车在平路、上坡路和下坡路的速度相同，而乙车在平路上的速度和甲车相同，在上坡路和下坡路的速度分别为平路的50%和150%，结果甲乙两车均用1.5小时到达B地。问甲车从B地返回A地所用的时间比乙车少多少分钟？\n",
    "- A 10分钟\n",
    "- B 20分钟\n",
    "- C 30分钟\n",
    "- D 40分钟\n",
    "\n",
    "答案解析：\n",
    "由于题目中没有相关数值，可以采用赋值法解题。   \n",
    "本题涉及往返上下坡的问题，由于往返一次，所以上坡和下坡的路程是相等的，也可以运用等距离平均速度公式解题。   \n",
    "\n",
    "计算过程。  \n",
    "由于1.5h运输完成，假设AB两地的长度为90公里，则甲车的速度为1km/h，乙车的上坡速度为0.5km/h，匀速为1km/h，下坡为1.5km/h。   \n",
    "由于平路为全长的1/3，则有30km。  \n",
    "\n",
    "假设上坡为S，则下坡路为（90-30-S）。由于甲乙两车的最后的通行时间是相同的，由S=VT，得到$T=\\frac{S}{V}$，即$\\frac{S}{0.5}+\\frac{90-30-S}{1.5}+\\frac{30}{1}=90$，解得S=15。  \n",
    "再反向计算乙车的返回时间为130分钟，比甲车多了（130-90）=40分钟。"
   ]
  },
  {
   "cell_type": "markdown",
   "metadata": {},
   "source": [
    "#### 直线相遇问题\n",
    "环境：两人同时相向而行   \n",
    "公式：$$S_{相遇}=(V_1+V_2)t$$，$S_{相遇}$，就是一起跑的路程。\n",
    "\n",
    "<img src='./images/002.png' width=500></img>"
   ]
  },
  {
   "cell_type": "markdown",
   "metadata": {},
   "source": [
    "#### 直线追及\n",
    "环境：两人同时同向而行\n",
    "公式：$$S_{追及}=(V_1-V_2)t$$，$S_{追及}$，就是多跑的距离。\n",
    "<img src='./images/003.png' width=500></img>"
   ]
  },
  {
   "cell_type": "markdown",
   "metadata": {},
   "source": [
    "（单选题）某单位围墙外面的人行道路围成了边长为150米的正方形，小王和小李两人分别从两个对角沿顺时针方向同时出发，如果小王每分钟走45米，小李每分钟走35米，那么经过（  ）小王才能看到小李。\n",
    "- A 14分40秒\n",
    "- B 15分\n",
    "- C 16分\n",
    "- D 16分40秒"
   ]
  },
  {
   "cell_type": "markdown",
   "metadata": {},
   "source": [
    "答案解析：\n",
    "- 注意：题目中要求的是小王看到小李，而不是相遇。\n",
    "- 小王看到小李，即两个人处于同一边，且两者的距离小于150m\n",
    "\n",
    "根据第一个条件，两个人距离小于150米。则小王追上小李150米，需要150/（45-35）=15分钟，此时小王经过了 45 x 15=675米，小李经过了15分钟跑了 35 x 15=525的路程。\n",
    "<img src='./images/008.png' width=400></img>\n"
   ]
  },
  {
   "cell_type": "markdown",
   "metadata": {},
   "source": [
    "#### 环形相遇（同时出发）\n",
    "$$S_{相遇}=(V_1+V_2)t$$\n",
    "\n",
    "相遇1次，$S_{相遇}$=1圈；  \n",
    "\n",
    "相遇N次，$S_{相遇}$=N圈；  \n",
    "<img src='./images/005.png' width=500></img>\n",
    "注意，是同地点出发，反方向出发，相遇"
   ]
  },
  {
   "cell_type": "markdown",
   "metadata": {},
   "source": [
    "#### 环形追及（同点出发）\n",
    "$$S_{相遇}=(V_1-V_2)t$$\n",
    "<img src='./images/007.png' width=500></img>"
   ]
  },
  {
   "cell_type": "markdown",
   "metadata": {},
   "source": [
    "（单选题）甲、乙二人在400米的环形跑道上练习跑步，甲出发1分钟后乙同向出发，乙出发3分钟后第一次追上甲，又过了10分钟，乙第二次追上甲。此时，乙比甲多跑了300米，问甲、乙的出发地在跑道上相距多远？（）\n",
    "- A 160米\n",
    "- B 140米\n",
    "- C 120米\n",
    "- D 100米"
   ]
  },
  {
   "cell_type": "markdown",
   "metadata": {},
   "source": [
    "答案解析：   \n",
    "- 方法一：\n",
    "    - 假设甲乙的速度分别为$V_甲$,$V_乙$。\n",
    "    - 从乙第一次追上甲，到第二次追上甲，相当于甲乙同时从同一地点同一方向出发，乙比甲多跑了400米（一圈）。则$400=(V_乙 -V_甲)*10$，即$V_乙=V_甲+40$。  \n",
    "    - 从甲出发，到第二次乙追上了甲，乙比甲多跑了300米，则$13V_乙-14V_甲=300$。\n",
    "    - 解得：$V_甲=220m/min$,$V_乙=260m/min$。\n",
    "    - 最后计算乙的跑3分钟的距离 减去 甲的跑4分钟的距离，得到（780-880）=-100米，则相距100米\n",
    "\n",
    "- 方法二：\n",
    "    - 直接分析。\n",
    "    - 设甲乙出发地相距s米\n",
    "    - 则从出发到第一次乙追上甲，乙比甲多跑了s米。\n",
    "    - 从第一次乙追上甲到第二次，乙比甲多跑了1圈，即400米\n",
    "    - 从出发到第二次乙追上甲，乙比甲一共多跑了（S+400）=300米，则S=-100。"
   ]
  },
  {
   "cell_type": "markdown",
   "metadata": {},
   "source": [
    "（单选题）小李和小麦两人从同一起跑线上绕400米环形跑道跑步，小李的速度是8m/s，小麦的速度是6m/s，问第二次追上小麦时小李跑了几圈？（）\n",
    "- A 10\n",
    "- B 8\n",
    "- C 6\n",
    "- D 4"
   ]
  },
  {
   "cell_type": "markdown",
   "metadata": {},
   "source": [
    "答案解析：   \n",
    "- 根据环形跑道追上一次两人距离相差一圈，追上两次则得知小李跑过小麦的长度是 400x2=800米。    \n",
    "- 假设小李第二次追上小麦的时间为t，则（8-6）t=800米，则t=400秒，则小李跑了400x8=3200米，则3200米/400米=8圈。    \n",
    "- 即小李跑了8圈。  "
   ]
  },
  {
   "cell_type": "markdown",
   "metadata": {},
   "source": [
    "### 2. 相对行程"
   ]
  },
  {
   "cell_type": "markdown",
   "metadata": {},
   "source": [
    "#### 流水行路\n",
    "$$V_{顺}=V_{船}+V_{水}$$  \n",
    "$$V_{逆}=V_{船}-V_{水}$$  \n",
    "\n",
    "$$V_{船}=\\frac{V_顺+V_逆}{2}$$\n",
    "$$V_{水}=\\frac{V_顺-V_逆}{2}$$"
   ]
  },
  {
   "cell_type": "markdown",
   "metadata": {},
   "source": [
    "<img src='./images/006.png' width=500></img>"
   ]
  },
  {
   "cell_type": "markdown",
   "metadata": {},
   "source": [
    "（单选题）甲乙两港之间相距480千米，一艘轮船往返两港需要40小时，逆流航行比顺流航行多花8小时。另有一艘机帆船，净水中的速度是每小时11千米，这艘机帆船往返两港需要多少小时？\n",
    "- A 80小时\n",
    "- B 90小时\n",
    "- C 100小时\n",
    "- D 110小时"
   ]
  },
  {
   "cell_type": "markdown",
   "metadata": {},
   "source": [
    "答案解析：\n",
    "- 设轮船顺流从甲到乙港需要x小时，则x+x+8=40，得到x=16小时\n",
    "- $V_顺=\\frac{480km}{16h}=30km/h$,$V_逆=\\frac{480km}{16+8}=20km/h$\n",
    "- $V_水=\\frac{V_顺-V_逆}{2}=\\frac{30-20}{2}=5km/h$\n",
    "- $t_{总时长}=t_{顺}+t_{逆}=\\frac{480}{11+5}+\\frac{480}{11-5}=110h$"
   ]
  },
  {
   "cell_type": "markdown",
   "metadata": {},
   "source": [
    "### 3. 比例行程"
   ]
  },
  {
   "cell_type": "markdown",
   "metadata": {},
   "source": [
    "$$路程=速度*时间$$"
   ]
  },
  {
   "cell_type": "markdown",
   "metadata": {},
   "source": [
    "路程一定，速度和时间成反比；   \n",
    "速度一定，路程与时间成正比；  \n",
    "时间一定，路程与速度成正比。  "
   ]
  },
  {
   "cell_type": "markdown",
   "metadata": {},
   "source": [
    "（单选题）小王和小赵分别从甲、乙两地同时出发相向而行。相遇后继续前行，小王又经过1小时到达乙地，小赵又经过9小时到达甲地。那么，小王走完全程用了_________个小时。\n",
    "- A 4小时\n",
    "- B 3小时\n",
    "- C 9小时\n",
    "- D 12小时"
   ]
  },
  {
   "cell_type": "markdown",
   "metadata": {},
   "source": [
    "答案解析：\n",
    "<img src='./images/009.png' width=500></img>"
   ]
  },
  {
   "cell_type": "markdown",
   "metadata": {},
   "source": [
    "如图所示，设小王和小赵分别从甲乙两地同时经过t小时在丙地相遇。  \n",
    "- 对于甲丙段的路程，路程一定，时间和速度成反比，则$\\frac{V_w}{V_z}=\\frac{9}{t}$; \n",
    "- 对于乙丙段的路程，路程一定，时间和速度成反比，则$\\frac{V_w}{V_z}=\\frac{t}{1}$; \n",
    "- 得到t=3，则小王走完全程用了3+1=4小时。"
   ]
  },
  {
   "cell_type": "markdown",
   "metadata": {},
   "source": [
    "-----"
   ]
  },
  {
   "cell_type": "markdown",
   "metadata": {},
   "source": [
    "<h3><a name='ratio'>3. 资料分析：比重-两期比重 </a></h3>"
   ]
  },
  {
   "cell_type": "markdown",
   "metadata": {},
   "source": [
    "两期比重比较：\n",
    "- 识别：两个时间+比重，问上升/下降\n",
    "- 公式：\n",
    "$$比重差=现期比重-基期比重=\\frac{A}{B} * \\frac{a-b}{1+a}$$\n",
    "- 升降判断：\n",
    "    - a>b, 比重上升\n",
    "    - a<b, 比重下降\n",
    "    - a=b, 比重不变\n",
    "\n",
    "注：   \n",
    "a为分子（部分量）的增长率；b为分母（总体量）的增长率。"
   ]
  },
  {
   "cell_type": "markdown",
   "metadata": {},
   "source": [
    "公式推导\n",
    "$$比重差=现期比重-基期比重=\\frac{A}{B} * \\frac{a-b}{1+a}$$\n",
    "$$=\\frac{A}{B}-\\frac{\\frac{A}{1+a}}{\\frac{B}{1+b}}$$\n",
    "$$=\\frac{A}{B}-\\frac{A}{B}\\frac{1+b}{1+a}$$\n",
    "$$=\\frac{A}{B}(1-\\frac{1+b}{1+a})$$\n",
    "$$=\\frac{A}{B} * \\frac{a-b}{1+a}$$"
   ]
  },
  {
   "cell_type": "markdown",
   "metadata": {},
   "source": [
    "例题：  \n",
    "2013年，全国共投入研究与试验发展（P&D）经费11846.6亿元，比上年增加1548.2亿元，增长15%。分活动类型看，全国用于基础研究的经费为555亿元，比上年增长11.3%，应用研究经费1269.1亿元，增长9.2%；试验发展经费10022.5亿元，增长16%，应用研究和试验发展经费占研究与试验发展经费总量的比重10.7%和84.6%。\n",
    "\n",
    "【问题】  \n",
    "与2012年相比，2013年内投入经费占研究与试验发展总投入经费比重上升的活动类型是（）\n",
    "- A 基础研究\n",
    "- B 应用研究\n",
    "- C 试验研究\n",
    "- D 基础研究，应用研究"
   ]
  },
  {
   "cell_type": "markdown",
   "metadata": {},
   "source": [
    "答案解析： 选C\n",
    "\n",
    "|-|基础研究|应用研究|试验发展|  \n",
    "|::|::|::|::|::|\n",
    "|部分增速a|11.3%|9.2%|16%|\n",
    "|总体增速b|15%|\n",
    "|结论|a<b,比重下降|a<b，比重下降|a>b，比重上升|"
   ]
  },
  {
   "cell_type": "markdown",
   "metadata": {},
   "source": [
    "---"
   ]
  },
  {
   "cell_type": "markdown",
   "metadata": {},
   "source": [
    "两期比重比较：\n",
    "- 识别：两个时间+比重，问上升/下降 **几个百分点**\n",
    "- 公式：\n",
    "$$比重差=现期比重-基期比重=\\frac{A}{B} * \\frac{a-b}{1+a}$$\n",
    "$$=\\frac{A}{B}\\frac{1}{1+a}(a-b)$$\n",
    "\n",
    " \n",
    "- 速算\n",
    "    - 判断升降：a>b，比重上升；a<b，比重下降\n",
    "    - 定大小：小于|a-b|\n",
    "    - 野路子：先判升降，再选最小（正确率在90%以上）"
   ]
  },
  {
   "cell_type": "markdown",
   "metadata": {},
   "source": [
    "例题：  \n",
    "2014年，某市十大产业链规模以上企业共完成产值3520.2亿元，同比增长13.3%，实现主营有任务收入3469.9亿元，利税348.4亿元，利润222.7亿元。全市智能电网产业链规模以上企业共同完成产值733.2亿元，主营业务收入730亿元，同比分别增长7%和6.5%\n"
   ]
  },
  {
   "cell_type": "markdown",
   "metadata": {},
   "source": [
    "2014年，全市智能电网产业链规模以上企业累计完成产值占十大产业链规模以上企业总额的比重约比上年 （）\n",
    "- A 下降6.3个百分点\n",
    "- B 下降1.2个百分点\n",
    "- C 上升6.3个百分点\n",
    "- D 上升1.2个百分点"
   ]
  },
  {
   "cell_type": "markdown",
   "metadata": {},
   "source": [
    "答案解析：\n",
    "- 总体的增长b为13.3%，电网产业的增长a为7%。\n",
    "    - a<b，下降。\n",
    "- |a-b|=|7%-13.3%|=6.3%\n",
    "    - 应该小于6.3%，所以选B"
   ]
  },
  {
   "cell_type": "markdown",
   "metadata": {},
   "source": [
    "-----"
   ]
  },
  {
   "cell_type": "markdown",
   "metadata": {},
   "source": [
    "<h3><a name='atrribute'>4. 属性规律：对称性、曲直、开闭  </a></h3>"
   ]
  },
  {
   "cell_type": "markdown",
   "metadata": {},
   "source": [
    "<img src='./images/011.png' width=500></img>"
   ]
  },
  {
   "cell_type": "markdown",
   "metadata": {},
   "source": [
    "#### 知识点1: 对称性\n",
    "\n",
    "<img src='./images/012.png' width=300></img>\n",
    "- 对称的种类：轴对称、中心对称、轴+中心对称\n",
    "    - 轴对称：如果一个平面图形沿着一条直线折叠后，直线两旁的部分能够互相重合，那么这个图形叫做**轴对称图形**，这条直线叫做对称轴。\n",
    "    - 中心对称：图像翻转180度 还是原图形，考试时可以将卷子翻转。\n",
    "    - 轴+中心对称：有两条互相垂直的对称轴\n",
    "- 轴对称的细化：（画出对称轴）\n",
    "    - 方向\n",
    "    - 数量\n",
    "    <img src='./images/013.png' width=400></img>"
   ]
  },
  {
   "cell_type": "markdown",
   "metadata": {},
   "source": [
    "例题：\n",
    "<img src='./images/014.png' width=500></img>"
   ]
  },
  {
   "cell_type": "markdown",
   "metadata": {},
   "source": [
    "答案解析：  \n",
    "所有图形画对称轴发现 对称轴 每次 按 顺时针方向 旋转45度，所以选B"
   ]
  },
  {
   "cell_type": "markdown",
   "metadata": {},
   "source": [
    "#### 知识点2：曲线性\n",
    "<img src='./images/015.png' width=300></img>\n",
    "- 全曲线\n",
    "- 全直线\n",
    "- 曲线 + 直线\n",
    "    - 分 内外\n",
    "    - 分 上下\n",
    "    - 分 左右\n",
    "    - 这种情况下，可以分开考虑\n",
    "- 如果题目不好判断用什么属性做题，则可以优先考虑**相邻比较**\n",
    "    - <img src='./images/016.png' width=400></img>\n",
    "    - 题目中，用对称性找不出答案，（全直线+全曲线）为一组。"
   ]
  },
  {
   "cell_type": "markdown",
   "metadata": {},
   "source": [
    "#### 知识点3：开闭性\n",
    "<img src='./images/017.png' width=400></img>\n",
    "- 全封闭\n",
    "- 全开放\n"
   ]
  },
  {
   "cell_type": "markdown",
   "metadata": {},
   "source": []
  },
  {
   "cell_type": "markdown",
   "metadata": {},
   "source": []
  },
  {
   "cell_type": "markdown",
   "metadata": {},
   "source": []
  },
  {
   "cell_type": "markdown",
   "metadata": {},
   "source": []
  },
  {
   "cell_type": "markdown",
   "metadata": {},
   "source": [
    "<img src='./images/015.png' width=500></img>"
   ]
  },
  {
   "cell_type": "markdown",
   "metadata": {},
   "source": [
    "\n"
   ]
  },
  {
   "cell_type": "markdown",
   "metadata": {},
   "source": []
  },
  {
   "cell_type": "markdown",
   "metadata": {},
   "source": []
  },
  {
   "cell_type": "markdown",
   "metadata": {},
   "source": []
  },
  {
   "cell_type": "markdown",
   "metadata": {},
   "source": []
  },
  {
   "cell_type": "markdown",
   "metadata": {},
   "source": []
  },
  {
   "cell_type": "markdown",
   "metadata": {},
   "source": []
  },
  {
   "cell_type": "code",
   "execution_count": null,
   "metadata": {},
   "outputs": [],
   "source": []
  },
  {
   "cell_type": "markdown",
   "metadata": {},
   "source": []
  },
  {
   "cell_type": "markdown",
   "metadata": {},
   "source": []
  },
  {
   "cell_type": "markdown",
   "metadata": {},
   "source": []
  },
  {
   "cell_type": "markdown",
   "metadata": {},
   "source": []
  },
  {
   "cell_type": "markdown",
   "metadata": {},
   "source": []
  },
  {
   "cell_type": "markdown",
   "metadata": {},
   "source": []
  },
  {
   "cell_type": "markdown",
   "metadata": {},
   "source": []
  },
  {
   "cell_type": "markdown",
   "metadata": {},
   "source": []
  },
  {
   "cell_type": "markdown",
   "metadata": {},
   "source": []
  },
  {
   "cell_type": "markdown",
   "metadata": {},
   "source": []
  },
  {
   "cell_type": "markdown",
   "metadata": {},
   "source": []
  },
  {
   "cell_type": "markdown",
   "metadata": {},
   "source": []
  }
 ],
 "metadata": {
  "kernelspec": {
   "display_name": "Python 3",
   "language": "python",
   "name": "python3"
  },
  "language_info": {
   "codemirror_mode": {
    "name": "ipython",
    "version": 3
   },
   "file_extension": ".py",
   "mimetype": "text/x-python",
   "name": "python",
   "nbconvert_exporter": "python",
   "pygments_lexer": "ipython3",
   "version": "3.6.5"
  }
 },
 "nbformat": 4,
 "nbformat_minor": 2
}
