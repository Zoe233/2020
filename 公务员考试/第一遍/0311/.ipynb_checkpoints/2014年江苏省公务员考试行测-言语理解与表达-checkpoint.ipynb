{
 "cells": [
  {
   "cell_type": "markdown",
   "metadata": {},
   "source": [
    "3月11日，第一次初初做行测题，10题，7-8分钟完成，错误4题（正确率60%，太低了）"
   ]
  },
  {
   "cell_type": "markdown",
   "metadata": {},
   "source": [
    "## 一、言语理解与表达"
   ]
  },
  {
   "cell_type": "markdown",
   "metadata": {},
   "source": [
    "1.凡是符合立案条件，并以办理立案手续的所有案件，除涉及国家机密或个人隐私等不宜公开的理由外，均应当在人民法院决定立案的7日内在网上公示，同时告知合议庭组成人员和案件审理期限，便于当事人和社会监督，防止拖延案件审理期限，提高司法效率。"
   ]
  },
  {
   "cell_type": "markdown",
   "metadata": {},
   "source": [
    "这段文字主要说明的是\n",
    "- A 怎样提高司法效率\n",
    "- B 加强立案公开制度的措施\n",
    "- C 案件审理期限的告知方式\n",
    "- D 司法工作怎样接受社会监督"
   ]
  },
  {
   "cell_type": "markdown",
   "metadata": {},
   "source": [
    "第一次解题思路：  \n",
    "由于根据看的粉笔的行测的单节课（袁东）的课，认为抓住关键词【社会监督】，未用中心思想抓题目。   \n",
    "正确答案B，第一次选择了D"
   ]
  },
  {
   "cell_type": "markdown",
   "metadata": {},
   "source": [
    "答案解析："
   ]
  },
  {
   "cell_type": "markdown",
   "metadata": {},
   "source": [
    "【主旨概括题】\n",
    "实际上文只有一句话，句子的主干成分为“案件均应在网上公示，同时告知合议庭组成人员和案件审理期限，便于当事人和社会监督”。  \n",
    "也就是说，案件需要在网上公示同时告知一些相关人员。  \n",
    "不管是网上公示还是向合议庭组成人员告知都是一种案件的公开，因此B选项正确。\n",
    "\n",
    "A选项，只是这种公开制度的目的之一  \n",
    "C选项，告知方式属于文中的部分细节  \n",
    "D选项，话题错误，文中主要讲的是案件，不是司法工作，过誉笼统。  "
   ]
  },
  {
   "cell_type": "markdown",
   "metadata": {},
   "source": []
  },
  {
   "cell_type": "markdown",
   "metadata": {},
   "source": []
  },
  {
   "cell_type": "markdown",
   "metadata": {},
   "source": []
  },
  {
   "cell_type": "markdown",
   "metadata": {},
   "source": []
  },
  {
   "cell_type": "markdown",
   "metadata": {},
   "source": []
  },
  {
   "cell_type": "markdown",
   "metadata": {},
   "source": []
  },
  {
   "cell_type": "markdown",
   "metadata": {},
   "source": []
  },
  {
   "cell_type": "markdown",
   "metadata": {},
   "source": []
  },
  {
   "cell_type": "markdown",
   "metadata": {},
   "source": []
  },
  {
   "cell_type": "markdown",
   "metadata": {},
   "source": []
  }
 ],
 "metadata": {
  "kernelspec": {
   "display_name": "Python 3",
   "language": "python",
   "name": "python3"
  },
  "language_info": {
   "codemirror_mode": {
    "name": "ipython",
    "version": 3
   },
   "file_extension": ".py",
   "mimetype": "text/x-python",
   "name": "python",
   "nbconvert_exporter": "python",
   "pygments_lexer": "ipython3",
   "version": "3.6.5"
  }
 },
 "nbformat": 4,
 "nbformat_minor": 2
}
