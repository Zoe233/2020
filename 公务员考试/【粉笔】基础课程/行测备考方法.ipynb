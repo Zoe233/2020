{
 "cells": [
  {
   "cell_type": "markdown",
   "metadata": {},
   "source": [
    "主要内容：\n",
    "- 公务员考试答题技巧\n",
    "- 公务员考试备考策略"
   ]
  },
  {
   "cell_type": "markdown",
   "metadata": {},
   "source": [
    "# 一、公务员考试技巧解析"
   ]
  },
  {
   "cell_type": "markdown",
   "metadata": {},
   "source": [
    "## 一、行政职业能力测试"
   ]
  },
  {
   "cell_type": "markdown",
   "metadata": {},
   "source": [
    "关键：取舍，先易后难，心态更重要，各个模块的技巧和思路\n",
    "\n",
    "除去答题卡时间，单题也就50多秒，所以题目的深度不会太高。"
   ]
  },
  {
   "cell_type": "markdown",
   "metadata": {},
   "source": [
    "- 数量关系部分：15道题，正确在12题以上即优秀，底线做对4题即可。\n",
    "\n",
    "- 数量关系题目有公约数：2，5；3，7，11\n",
    "\n"
   ]
  },
  {
   "cell_type": "markdown",
   "metadata": {},
   "source": [
    "- 图形推理\n",
    "- 点、线、角、面、素（先数量、后种类），整体不行，看部分"
   ]
  },
  {
   "cell_type": "markdown",
   "metadata": {},
   "source": [
    "- 言语理解与表达常规技巧\n",
    "- 从关联词入手，找重点句\n",
    "- 言语理解与表达的本质：同义替换\n",
    "- 从命题者的角度入手，辨别答案"
   ]
  },
  {
   "cell_type": "markdown",
   "metadata": {},
   "source": [
    "---"
   ]
  },
  {
   "cell_type": "markdown",
   "metadata": {},
   "source": [
    "## 二、申论备考指导"
   ]
  },
  {
   "cell_type": "markdown",
   "metadata": {},
   "source": [
    "一、关键词+两个标点"
   ]
  },
  {
   "cell_type": "markdown",
   "metadata": {},
   "source": [
    "1. 北大才子卖猪肉，高考状元卖糖葫芦，新闻媒体为他们宣传后都让他们找到了相应的工作，请问对此你是怎么看的？\n",
    "2. 请问你如何看待枪打出头鸟这句话？\n",
    "3. 请问你如何看待“十年寒窗不如一朝选秀”？"
   ]
  },
  {
   "cell_type": "markdown",
   "metadata": {},
   "source": [
    "1. 北大才子卖猪肉，高考状元卖糖葫芦，新闻媒体为他们宣传后都让他们找到了相应的工作，请问对此你是怎么看的？"
   ]
  },
  {
   "cell_type": "markdown",
   "metadata": {},
   "source": [
    "关键词：北大才子！？高考状元！？新闻媒体！？卖猪肉！？卖糖葫芦！？大学生就业问题！？"
   ]
  },
  {
   "cell_type": "markdown",
   "metadata": {},
   "source": [
    "主客二分（主观+客观，学生，学校，政府各个相关部门）"
   ]
  },
  {
   "cell_type": "markdown",
   "metadata": {},
   "source": [
    "2. 请问你如何看待枪打出头鸟这句话？"
   ]
  },
  {
   "cell_type": "markdown",
   "metadata": {},
   "source": [
    "关键词：枪！？出头鸟！？"
   ]
  },
  {
   "cell_type": "markdown",
   "metadata": {},
   "source": [
    "3. 请问你如何看待“十年寒窗不如一朝选秀”？"
   ]
  },
  {
   "cell_type": "markdown",
   "metadata": {},
   "source": [
    "关键词：十年寒窗！不如！？选秀！？"
   ]
  },
  {
   "cell_type": "markdown",
   "metadata": {},
   "source": []
  }
 ],
 "metadata": {
  "kernelspec": {
   "display_name": "Python 3",
   "language": "python",
   "name": "python3"
  },
  "language_info": {
   "codemirror_mode": {
    "name": "ipython",
    "version": 3
   },
   "file_extension": ".py",
   "mimetype": "text/x-python",
   "name": "python",
   "nbconvert_exporter": "python",
   "pygments_lexer": "ipython3",
   "version": "3.6.5"
  }
 },
 "nbformat": 4,
 "nbformat_minor": 2
}
