{
 "cells": [
  {
   "cell_type": "markdown",
   "metadata": {},
   "source": [
    "<h1><a href='#test_time'>一、考试时间</a></h1>\n",
    "<h1><a href='#test_conditions'>二、报考条件</a></h1>\n",
    "<h1><a href='#test_feature'>三、笔试特点</a></h1>\n",
    "<h1><a href='#test_advice'>四、备考建议</a></h1>"
   ]
  },
  {
   "cell_type": "markdown",
   "metadata": {},
   "source": [
    "<h2><a name='test_time'>一、考试时间</a></h2>"
   ]
  },
  {
   "cell_type": "markdown",
   "metadata": {},
   "source": [
    "### 【江苏】- 每年的3月11号左右（三月中旬）（省考的头阵）\n",
    "### 北京【上海】- 12月的中上旬\n",
    "### 【浙江】属于 联考地区 - 每年的4月中下旬\n",
    "### 政法干警 每年的9月中下旬\n",
    "\n",
    "\n",
    "\n",
    "\n"
   ]
  },
  {
   "cell_type": "markdown",
   "metadata": {},
   "source": [
    "注意：报考条件和法律背景，都ok，未记录。"
   ]
  },
  {
   "cell_type": "markdown",
   "metadata": {},
   "source": [
    "#### 基层工作经历：\n",
    "- 县级及以下党政机关\n",
    "- 国有企事业单位\n",
    "- 村（社区）组织\n",
    "- 其它经济组织、社会组织等工作经历\n",
    "    - 只要交过社保都算基层工作经历\n",
    "    - 按劳动合同约定的启始时间算起\n"
   ]
  },
  {
   "cell_type": "markdown",
   "metadata": {},
   "source": [
    "#### 学历按最高学历报考"
   ]
  },
  {
   "cell_type": "markdown",
   "metadata": {},
   "source": [
    "#### 报考条件\n",
    "- 适合男性的岗位不要报\n",
    "- 外语要求，计算机（国家二级、省级二级），法律资格证等时间截止日期\n",
    "- 职位要求的其他资格条件（如：政治面貌、学历、学位、相关基层工作经验等）\n",
    "- 能力要求：以专业考试为判定要求\n",
    "- 户籍：北京上海，江苏分地区"
   ]
  },
  {
   "cell_type": "markdown",
   "metadata": {},
   "source": [
    "一直没有考计算机二级，看下要不要考下\n"
   ]
  },
  {
   "cell_type": "markdown",
   "metadata": {},
   "source": [
    "## 行政能力测试\n",
    "- 常识判断\n",
    "- 言语理解与表达\n",
    "- 判断推理\n",
    "- 数量关系\n",
    "- 资料分析\n",
    "\n",
    "## 申论\n",
    "- 单一题\n",
    "- 综合题\n",
    "- 公文题\n",
    "- 文章写作"
   ]
  },
  {
   "cell_type": "markdown",
   "metadata": {},
   "source": [
    "特殊：\n",
    "- 小语种\n",
    "- 公安基础知识\n",
    "- 特定职位：专业考试\n",
    "- 浙江执法类：行测+综合应用能力\n",
    "- 政法干警 本科加试 民法；专科加试 文综"
   ]
  },
  {
   "cell_type": "markdown",
   "metadata": {},
   "source": []
  },
  {
   "cell_type": "markdown",
   "metadata": {},
   "source": []
  }
 ],
 "metadata": {
  "kernelspec": {
   "display_name": "Python 3",
   "language": "python",
   "name": "python3"
  },
  "language_info": {
   "codemirror_mode": {
    "name": "ipython",
    "version": 3
   },
   "file_extension": ".py",
   "mimetype": "text/x-python",
   "name": "python",
   "nbconvert_exporter": "python",
   "pygments_lexer": "ipython3",
   "version": "3.6.5"
  }
 },
 "nbformat": 4,
 "nbformat_minor": 2
}
