{
 "cells": [
  {
   "cell_type": "markdown",
   "metadata": {},
   "source": [
    "1. 如果不在《统计法》中增加社会公众监督的实体内容与公开透明的程序规定，让统计机构脱离行政性质，构建以社会统计为主、政府肩痛为辅的新型统计方式，统计机构这种自己评价自己的方式不仅使其“费力不讨好”的形象很难改变，甚而可能酿成大祸。"
   ]
  },
  {
   "cell_type": "markdown",
   "metadata": {},
   "source": [
    "这段文字意在强调“统计机构”\n",
    "- A 必须脱离行政性质\n",
    "- B 必须接受公众监督\n",
    "- C 必须规定公开程序\n",
    "- D 必须改变现有形象"
   ]
  },
  {
   "cell_type": "markdown",
   "metadata": {},
   "source": [
    "第一次答题错误原因：  \n",
    "第一次排除了BC，片面，看A也是和BC几乎并列，就以片面选项排除了ABC，选择了D。   \n",
    "正确答案是A。"
   ]
  },
  {
   "cell_type": "markdown",
   "metadata": {},
   "source": [
    "答案解析：\n",
    "【意图判断题】 文段运用反面论证法进行论证，由“如果不...让统计机构脱离行政性质“可能造成的严重后果可知。文段意在强调应该让统计机构脱离行政性质，故A选项正确。\n",
    "\n",
    "BC两项都是从属让”统计机构脱离行政性质”的措施，不属于文段强调的重点，故排除。  \n",
    "D选项说法太宽泛，故排除。"
   ]
  },
  {
   "cell_type": "markdown",
   "metadata": {},
   "source": [
    "---"
   ]
  },
  {
   "cell_type": "markdown",
   "metadata": {},
   "source": []
  },
  {
   "cell_type": "markdown",
   "metadata": {},
   "source": []
  }
 ],
 "metadata": {
  "kernelspec": {
   "display_name": "Python 3",
   "language": "python",
   "name": "python3"
  },
  "language_info": {
   "codemirror_mode": {
    "name": "ipython",
    "version": 3
   },
   "file_extension": ".py",
   "mimetype": "text/x-python",
   "name": "python",
   "nbconvert_exporter": "python",
   "pygments_lexer": "ipython3",
   "version": "3.6.5"
  }
 },
 "nbformat": 4,
 "nbformat_minor": 2
}
